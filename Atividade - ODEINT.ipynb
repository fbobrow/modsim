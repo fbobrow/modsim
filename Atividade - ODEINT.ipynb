{
 "cells": [
  {
   "cell_type": "markdown",
   "metadata": {},
   "source": [
    "# Insper - Modelagem e Simulação do Mundo Físico\n",
    "\n",
    "## Atividade - ODEINT"
   ]
  },
  {
   "cell_type": "markdown",
   "metadata": {},
   "source": [
    "----\n",
    "\n",
    "### Item 1 - Resolvendo uma equação diferencial utilizando a função `odeint` do Python\n",
    "\n",
    "Na aula passada, você utilizou o método de Euler para resolver um modelo dado pela seguinte equação diferencial e condição inicial: \n",
    "\n",
    "$$\\dfrac{dy(t)}{dt}=y(t)$$\n",
    "$$y(0) = 1$$\n",
    "\n",
    "Agora, vamos resolvê-lo utilizando a função `odeint` do Python.\n",
    "\n"
   ]
  },
  {
   "cell_type": "markdown",
   "metadata": {},
   "source": [
    "#### a) Modelo\n",
    "\n",
    "Implemente uma função denominada ```modelo``` que receba a variável $y(t)$ e o instante de tempo $t$ e retorne a taxa de variação $\\frac{dy(t)}{dt}$. Mesmo que sua função não utilize a variável $t$, ela é obrigatória para o correto funcionamento da função ```odeint```."
   ]
  },
  {
   "cell_type": "code",
   "execution_count": 1,
   "metadata": {},
   "outputs": [],
   "source": [
    "# SEU CÓDIGO DO ITEM 1A\n"
   ]
  },
  {
   "cell_type": "markdown",
   "metadata": {},
   "source": [
    "#### b) Resolução numérica\n",
    "\n",
    "Agora que você implementou a função ```modelo```, calcule uma lista de valores $[y(0) \\quad y(t_1) \\quad \\cdots \\quad y(t_n)]$ utilizando a função ```odeint```. Para isso, você vai precisar de:\n",
    "\n",
    "- Uma condição inicial $y(0) = 1$\n",
    "- Uma lista de tempo $[0 \\quad t_1 \\quad \\cdots \\quad t_n]$ com $\\Delta t$ bem pequeno (use $\\Delta t=10^{-3}s$ em uma lista de tempo de $0$ a $3$s.)"
   ]
  },
  {
   "cell_type": "code",
   "execution_count": 2,
   "metadata": {},
   "outputs": [],
   "source": [
    "# SEU CÓDIGO DO ITEM 1B\n"
   ]
  },
  {
   "cell_type": "markdown",
   "metadata": {},
   "source": [
    "#### c) Gráfico\n",
    "\n",
    "Por fim, plote um gráfico de $y(t)$ por $t$."
   ]
  },
  {
   "cell_type": "code",
   "execution_count": 3,
   "metadata": {},
   "outputs": [],
   "source": [
    "# SEU CÓDIGO DO ITEM 1C\n"
   ]
  }
 ],
 "metadata": {
  "kernelspec": {
   "display_name": "Python 3 (ipykernel)",
   "language": "python",
   "name": "python3"
  },
  "language_info": {
   "codemirror_mode": {
    "name": "ipython",
    "version": 3
   },
   "file_extension": ".py",
   "mimetype": "text/x-python",
   "name": "python",
   "nbconvert_exporter": "python",
   "pygments_lexer": "ipython3",
   "version": "3.9.13"
  }
 },
 "nbformat": 4,
 "nbformat_minor": 4
}
